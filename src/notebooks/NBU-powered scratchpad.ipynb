{
 "cells": [
  {
   "cell_type": "markdown",
   "id": "72a81e99-1414-4275-8569-55073fdc0bd0",
   "metadata": {},
   "source": [
    "<h1 style=\"color:green\">NBU-powered Scratchpad</h1>\n",
    "<p style=\"color:green\">This notebook is used for code smithening purposes</p>\n",
    "<p style=\"color:green\">It includes notebook utilities support, which means it can easily invoke functionality from the Conway-based project it belongs to</p>\n",
    "<p>NB: this notebook requires to be launched in an environment that includes conway and conway.ops</p>"
   ]
  },
  {
   "cell_type": "code",
   "execution_count": 1,
   "id": "2d0062f1-7ee9-4428-a169-6bbf77b30908",
   "metadata": {},
   "outputs": [
    {
     "name": "stdout",
     "output_type": "stream",
     "text": [
      "SCRATCH installation:            \u001b[34m\u001b[7m    scratch_fork    \u001b[0m\n",
      "Jupyter using repo[branch]:  \u001b[32m\u001b[7m    scratch.ops[afin-dev]    \u001b[0m\n",
      "Installation path:           \u001b[34m\u001b[7m    /home/alex/consultant1@CCL/dev/scratch_fork    \u001b[0m\n",
      "Application:                 \u001b[32m\u001b[7m    <class 'scratch_nb_apps.scratch_nb_application.Scratch_NB_Application'>    \u001b[0m\n"
     ]
    }
   ],
   "source": [
    "import os                                                               as _os\n",
    "import sys\n",
    "sys.path.append(_os.path.dirname(_os.path.dirname(_os.getcwd())) + \"/src\") # So we can import scratch_nb_apps\n",
    "from scratch_nb_apps.scratch_nb_utils import Scratch_NB_Utils\n",
    "NBU                       = Scratch_NB_Utils()\n",
    "DFU                       = NBU.DFU\n",
    "T0                        = NBU.time.perf_counter()"
   ]
  },
  {
   "cell_type": "markdown",
   "id": "fd0f9748-0902-4c08-83d5-6202ca6eb5a3",
   "metadata": {},
   "source": [
    "<h1 style=\"color:purple\">Graph of Awaitables</h1>\n",
    "<p> We pilot whether we can maintain a graph of awaitables, including:</p>\n",
    "<li> Multiple dependencies: awaitables B, C both awaiting on a common awaitable A"
   ]
  },
  {
   "cell_type": "code",
   "execution_count": 2,
   "id": "79e2f10b-967e-42a8-99ff-e7967999221d",
   "metadata": {},
   "outputs": [],
   "source": [
    "import asyncio"
   ]
  },
  {
   "cell_type": "code",
   "execution_count": 18,
   "id": "7fff6833-773e-4af0-9642-9b3ca4f9639f",
   "metadata": {},
   "outputs": [],
   "source": [
    "async def A() -> str:\n",
    "    print(\"A starts ...\", flush=True)\n",
    "    await asyncio.sleep(1)\n",
    "    print(\"... A ends\", flush=True)\n",
    "    return \"A\""
   ]
  },
  {
   "cell_type": "code",
   "execution_count": 22,
   "id": "49939c83-d0b6-405f-82f5-b96d39e485eb",
   "metadata": {},
   "outputs": [],
   "source": [
    "async def B(an_a) -> str:\n",
    "    print(\"B starts ...\", flush=True)\n",
    "    x = await an_a #A()\n",
    "    print(\"... B ends\", flush=True)\n",
    "    return \"B\""
   ]
  },
  {
   "cell_type": "code",
   "execution_count": 23,
   "id": "f95becb8-b343-440b-9056-e5013e75029e",
   "metadata": {},
   "outputs": [],
   "source": [
    "async def supervisor():\n",
    "    result_l                                        =  []\n",
    "    print(\"Scheduling A ...\", flush=True)\n",
    "    a = A()\n",
    "    print(\"... A scheduled\", flush=True)\n",
    "    print(\"Scheduling B ...\", flush=True)\n",
    "    b = B(a)\n",
    "    print(\"... B scheduled\", flush=True)\n",
    "    to_do = [a, b]\n",
    "    to_do_iter                                      = asyncio.as_completed(to_do)\n",
    "    for coro in to_do_iter:\n",
    "        coro_result                                 = await coro\n",
    "        result_l.append(coro_result)\n",
    "    return result_l"
   ]
  },
  {
   "cell_type": "code",
   "execution_count": 24,
   "id": "79c79033-bce6-4235-8f7a-547594d96541",
   "metadata": {},
   "outputs": [
    {
     "name": "stdout",
     "output_type": "stream",
     "text": [
      "Scheduling A ...\n",
      "... A scheduled\n",
      "Scheduling B ...\n",
      "... B scheduled\n",
      "B starts ...\n",
      "A starts ...\n",
      "... A ends\n",
      "... B ends\n"
     ]
    },
    {
     "ename": "RuntimeError",
     "evalue": "cannot reuse already awaited coroutine",
     "output_type": "error",
     "traceback": [
      "\u001b[0;31m---------------------------------------------------------------------------\u001b[0m",
      "\u001b[0;31mRuntimeError\u001b[0m                              Traceback (most recent call last)",
      "Cell \u001b[0;32mIn[24], line 2\u001b[0m\n\u001b[1;32m      1\u001b[0m \u001b[38;5;66;03m#result_l = asyncio.run(supervisor()) # Don't do this in Jupyter since Jupyter is already running an event loog\u001b[39;00m\n\u001b[0;32m----> 2\u001b[0m result_l \u001b[38;5;241m=\u001b[39m \u001b[38;5;28;01mawait\u001b[39;00m supervisor()\n\u001b[1;32m      3\u001b[0m result_l\n",
      "Cell \u001b[0;32mIn[23], line 12\u001b[0m, in \u001b[0;36msupervisor\u001b[0;34m()\u001b[0m\n\u001b[1;32m     10\u001b[0m to_do_iter                                      \u001b[38;5;241m=\u001b[39m asyncio\u001b[38;5;241m.\u001b[39mas_completed(to_do)\n\u001b[1;32m     11\u001b[0m \u001b[38;5;28;01mfor\u001b[39;00m coro \u001b[38;5;129;01min\u001b[39;00m to_do_iter:\n\u001b[0;32m---> 12\u001b[0m     coro_result                                 \u001b[38;5;241m=\u001b[39m \u001b[38;5;28;01mawait\u001b[39;00m coro\n\u001b[1;32m     13\u001b[0m     result_l\u001b[38;5;241m.\u001b[39mappend(coro_result)\n\u001b[1;32m     14\u001b[0m \u001b[38;5;28;01mreturn\u001b[39;00m result_l\n",
      "File \u001b[0;32m/home/technos/anaconda3/envs/limon/lib/python3.12/asyncio/tasks.py:631\u001b[0m, in \u001b[0;36mas_completed.<locals>._wait_for_one\u001b[0;34m()\u001b[0m\n\u001b[1;32m    628\u001b[0m \u001b[38;5;28;01mif\u001b[39;00m f \u001b[38;5;129;01mis\u001b[39;00m \u001b[38;5;28;01mNone\u001b[39;00m:\n\u001b[1;32m    629\u001b[0m     \u001b[38;5;66;03m# Dummy value from _on_timeout().\u001b[39;00m\n\u001b[1;32m    630\u001b[0m     \u001b[38;5;28;01mraise\u001b[39;00m exceptions\u001b[38;5;241m.\u001b[39mTimeoutError\n\u001b[0;32m--> 631\u001b[0m \u001b[38;5;28;01mreturn\u001b[39;00m f\u001b[38;5;241m.\u001b[39mresult()\n",
      "\u001b[0;31mRuntimeError\u001b[0m: cannot reuse already awaited coroutine"
     ]
    }
   ],
   "source": [
    "#result_l = asyncio.run(supervisor()) # Don't do this in Jupyter since Jupyter is already running an event loog\n",
    "result_l = await supervisor()\n",
    "result_l"
   ]
  },
  {
   "cell_type": "code",
   "execution_count": null,
   "id": "c4f06eff-005b-4e5e-ab01-a2925b9cb98b",
   "metadata": {},
   "outputs": [],
   "source": []
  },
  {
   "cell_type": "code",
   "execution_count": null,
   "id": "5339ed58-d91c-4282-9ed0-2a98794cc09f",
   "metadata": {},
   "outputs": [],
   "source": []
  },
  {
   "cell_type": "code",
   "execution_count": null,
   "id": "36e6cb1e-a646-4dce-8c2c-c9289299a7ac",
   "metadata": {},
   "outputs": [],
   "source": []
  }
 ],
 "metadata": {
  "kernelspec": {
   "display_name": "Python 3 (ipykernel)",
   "language": "python",
   "name": "python3"
  },
  "language_info": {
   "codemirror_mode": {
    "name": "ipython",
    "version": 3
   },
   "file_extension": ".py",
   "mimetype": "text/x-python",
   "name": "python",
   "nbconvert_exporter": "python",
   "pygments_lexer": "ipython3",
   "version": "3.12.3"
  }
 },
 "nbformat": 4,
 "nbformat_minor": 5
}
