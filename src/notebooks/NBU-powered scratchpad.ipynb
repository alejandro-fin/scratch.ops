{
 "cells": [
  {
   "cell_type": "markdown",
   "id": "72a81e99-1414-4275-8569-55073fdc0bd0",
   "metadata": {},
   "source": [
    "<h1 style=\"color:green\">NBU-powered Scratchpad</h1>\n",
    "<p style=\"color:green\">This notebook is used for code smithening purposes</p>\n",
    "<p style=\"color:green\">It includes notebook utilities support, which means it can easily invoke functionality from the Conway-based project it belongs to</p>\n",
    "<p>NB: this notebook requires to be launched in an environment that includes conway and conway.ops</p>"
   ]
  },
  {
   "cell_type": "code",
   "execution_count": 1,
   "id": "2d0062f1-7ee9-4428-a169-6bbf77b30908",
   "metadata": {},
   "outputs": [
    {
     "name": "stdout",
     "output_type": "stream",
     "text": [
      "SCRATCH installation:            \u001b[34m\u001b[7m    scratch_fork    \u001b[0m\n",
      "Jupyter using repo[branch]:  \u001b[32m\u001b[7m    scratch.ops[afin-dev]    \u001b[0m\n",
      "Installation path:           \u001b[34m\u001b[7m    /home/alex/consultant1@FIN/dev/scratch_fork    \u001b[0m\n",
      "Application:                 \u001b[32m\u001b[7m    <class 'scratch_nb_apps.scratch_nb_application.Scratch_NB_Application'>    \u001b[0m\n"
     ]
    }
   ],
   "source": [
    "import os                                                               as _os\n",
    "import sys\n",
    "sys.path.append(_os.path.dirname(_os.path.dirname(_os.getcwd())) + \"/src\") # So we can import scratch_nb_apps\n",
    "from scratch_nb_apps.scratch_nb_utils import Scratch_NB_Utils\n",
    "NBU                       = Scratch_NB_Utils()\n",
    "DFU                       = NBU.DFU\n",
    "T0                        = NBU.time.perf_counter()"
   ]
  },
  {
   "cell_type": "markdown",
   "id": "fd0f9748-0902-4c08-83d5-6202ca6eb5a3",
   "metadata": {},
   "source": [
    "<h1 style=\"color:purple\">Graph of Awaitables</h1>\n",
    "<p> We pilot whether we can maintain a graph of awaitables, including:</p>\n",
    "<li> Multiple dependencies: awaitables B, C both awaiting on a common awaitable A"
   ]
  },
  {
   "cell_type": "code",
   "execution_count": 2,
   "id": "79e2f10b-967e-42a8-99ff-e7967999221d",
   "metadata": {},
   "outputs": [],
   "source": [
    "import asyncio"
   ]
  },
  {
   "cell_type": "code",
   "execution_count": 3,
   "id": "145a021a-110b-4eac-aecf-9e4b40cb1468",
   "metadata": {},
   "outputs": [],
   "source": [
    "class UsheringTo():\n",
    "\n",
    "    def __init__(self, result_l):\n",
    "        self.result_l = result_l\n",
    "        #self._to_do = []\n",
    "\n",
    "    def __iadd__(self, coro):\n",
    "        if not asyncio.iscoroutine(coro):\n",
    "            raise ValueError(f\"Expected a coroutine, but instead got a {type(coro)}\")\n",
    "        self.to_do.append(coro)\n",
    "        return self\n",
    "\n",
    "    async def __aenter__(self):\n",
    "        self.to_do = []\n",
    "        return self\n",
    "\n",
    "    async def __aexit__(self, exc_type, exc_value, traceback):\n",
    "        to_do_iter                                      = asyncio.as_completed(self.to_do)\n",
    "        for coro in to_do_iter:\n",
    "            coro_result                                 = await coro\n",
    "            self.result_l.append(coro_result)\n",
    "        return"
   ]
  },
  {
   "cell_type": "code",
   "execution_count": 4,
   "id": "7fff6833-773e-4af0-9642-9b3ca4f9639f",
   "metadata": {},
   "outputs": [],
   "source": [
    "class MachineBase():\n",
    "    def __init__(self, verbose, compute_time):\n",
    "        self.verbose = verbose\n",
    "        self.compute_time = compute_time\n",
    "\n",
    "    async def compute(self, path):\n",
    "        return await asyncio.sleep(self.compute_time)\n",
    "    \n",
    "    async def run_node(self, node_name, node_callable, prefix=\"\") -> str:\n",
    "        name = f\"{prefix}{node_name}\"\n",
    "        if self.verbose:\n",
    "            print(f\"{name} ...\", flush=True)\n",
    "        x = await node_callable(f\"{name}->\")\n",
    "        if self.verbose:\n",
    "            print(f\"... {name}\", flush=True)\n",
    "        return f\"{name}\"\n",
    "\n",
    "class Machine1(MachineBase):\n",
    "    \n",
    "    def __init__(self, verbose=False, compute_time=1):\n",
    "        super().__init__(verbose, compute_time)\n",
    "        \n",
    "    async def A(self, prefix=\"\") -> str:\n",
    "        return await self.run_node(\"A\", self.compute, prefix)\n",
    "\n",
    "    async def B(self, prefix=\"\") -> str:\n",
    "        return await self.run_node(\"B\", self.A, prefix)\n",
    "\n",
    "    async def C(self, prefix=\"\") -> str:\n",
    "        return await self.run_node(\"C\", self.B, prefix)\n",
    "\n"
   ]
  },
  {
   "cell_type": "code",
   "execution_count": 5,
   "id": "f95becb8-b343-440b-9056-e5013e75029e",
   "metadata": {},
   "outputs": [],
   "source": [
    "async def supervisor(to_do_l, nb_tries = 1, verbose=False):\n",
    "    result_l                                        =  []\n",
    "\n",
    "    async with UsheringTo(result_l) as usher:\n",
    "        for coro in to_do_l:\n",
    "            usher += coro\n",
    "    return result_l"
   ]
  },
  {
   "cell_type": "code",
   "execution_count": 17,
   "id": "64a81338-bfc2-4cfd-a6fe-966caf9e08f5",
   "metadata": {},
   "outputs": [],
   "source": [
    "COMPUTE_TIME = 0.5 # (in seconds)\n",
    "m1 = Machine1(compute_time=COMPUTE_TIME)"
   ]
  },
  {
   "cell_type": "code",
   "execution_count": 23,
   "id": "79c79033-bce6-4235-8f7a-547594d96541",
   "metadata": {},
   "outputs": [
    {
     "name": "stdout",
     "output_type": "stream",
     "text": [
      "\n",
      "[325.90 sec]\tinteractiveshell:3551\t2 levels test completed in 0.78 sec\n"
     ]
    },
    {
     "data": {
      "text/plain": [
       "(15000, '2.0833333333333335 hr of wait')"
      ]
     },
     "execution_count": 23,
     "metadata": {},
     "output_type": "execute_result"
    }
   ],
   "source": [
    "#result_l = asyncio.run(supervisor()) # Don't do this in Jupyter since Jupyter is already running an event loop\n",
    "NB_TRIES = 5000\n",
    "TO_DO_L = []\n",
    "for idx in range(NB_TRIES):\n",
    "    TO_DO_L += [m1.A(), m1.B(), m1.C()]\n",
    "with NBU.Profiler(\"2 levels test\"):\n",
    "        result_l = await supervisor(TO_DO_L, nb_tries=NB_TRIES)\n",
    "len(result_l), f\"{len(result_l)*COMPUTE_TIME/60/60} hr of wait\""
   ]
  },
  {
   "cell_type": "code",
   "execution_count": null,
   "id": "5339ed58-d91c-4282-9ed0-2a98794cc09f",
   "metadata": {},
   "outputs": [],
   "source": []
  },
  {
   "cell_type": "code",
   "execution_count": null,
   "id": "36e6cb1e-a646-4dce-8c2c-c9289299a7ac",
   "metadata": {},
   "outputs": [],
   "source": []
  }
 ],
 "metadata": {
  "kernelspec": {
   "display_name": "Python 3 (ipykernel)",
   "language": "python",
   "name": "python3"
  },
  "language_info": {
   "codemirror_mode": {
    "name": "ipython",
    "version": 3
   },
   "file_extension": ".py",
   "mimetype": "text/x-python",
   "name": "python",
   "nbconvert_exporter": "python",
   "pygments_lexer": "ipython3",
   "version": "3.12.3"
  }
 },
 "nbformat": 4,
 "nbformat_minor": 5
}
