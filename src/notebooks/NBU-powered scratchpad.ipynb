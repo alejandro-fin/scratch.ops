{
 "cells": [
  {
   "cell_type": "markdown",
   "id": "72a81e99-1414-4275-8569-55073fdc0bd0",
   "metadata": {},
   "source": [
    "<h1 style=\"color:green\">NBU-powered Scratchpad</h1>\n",
    "<p style=\"color:green\">This notebook is used for code smithening purposes</p>\n",
    "<p style=\"color:green\">It includes notebook utilities support, which means it can easily invoke functionality from the Conway-based project it belongs to</p>\n",
    "<p>NB: this notebook requires to be launched in an environment that includes conway and conway.ops</p>"
   ]
  },
  {
   "cell_type": "code",
   "execution_count": 1,
   "id": "2d0062f1-7ee9-4428-a169-6bbf77b30908",
   "metadata": {},
   "outputs": [
    {
     "name": "stdout",
     "output_type": "stream",
     "text": [
      "SCRATCH installation:            \u001b[34m\u001b[7m    scratch_fork    \u001b[0m\n",
      "Jupyter using repo[branch]:  \u001b[32m\u001b[7m    scratch.ops[afin-dev]    \u001b[0m\n",
      "Installation path:           \u001b[34m\u001b[7m    /home/alex/consultant1@CCL/dev/scratch_fork    \u001b[0m\n",
      "Application:                 \u001b[32m\u001b[7m    <class 'scratch_nb_apps.scratch_nb_application.Scratch_NB_Application'>    \u001b[0m\n"
     ]
    }
   ],
   "source": [
    "import os                                                               as _os\n",
    "import sys\n",
    "sys.path.append(_os.path.dirname(_os.path.dirname(_os.getcwd())) + \"/src\") # So we can import scratch_nb_apps\n",
    "from scratch_nb_apps.scratch_nb_utils import Scratch_NB_Utils\n",
    "NBU                       = Scratch_NB_Utils()\n",
    "DFU                       = NBU.DFU\n",
    "T0                        = NBU.time.perf_counter()"
   ]
  },
  {
   "cell_type": "markdown",
   "id": "f3c1a516-031f-469d-a7a5-27391006b39a",
   "metadata": {},
   "source": [
    "<h1 style=\"color:purple\">Create more branches</h1>"
   ]
  },
  {
   "cell_type": "code",
   "execution_count": 5,
   "id": "f71baf7b-dc32-4a0c-a5de-ac3c9a61f5a0",
   "metadata": {},
   "outputs": [
    {
     "ename": "AttributeError",
     "evalue": "'Scratch_NB_Application' object has no attribute 'profile'",
     "output_type": "error",
     "traceback": [
      "\u001b[0;31m---------------------------------------------------------------------------\u001b[0m",
      "\u001b[0;31mAttributeError\u001b[0m                            Traceback (most recent call last)",
      "Cell \u001b[0;32mIn[5], line 1\u001b[0m\n\u001b[0;32m----> 1\u001b[0m p \u001b[38;5;241m=\u001b[39m NBU\u001b[38;5;241m.\u001b[39mApplication\u001b[38;5;241m.\u001b[39mapp()\u001b[38;5;241m.\u001b[39mprofile\n",
      "\u001b[0;31mAttributeError\u001b[0m: 'Scratch_NB_Application' object has no attribute 'profile'"
     ]
    }
   ],
   "source": [
    "p = NBU.Application.app().profile"
   ]
  },
  {
   "cell_type": "code",
   "execution_count": null,
   "id": "46c72d22-939b-4652-9ed2-b5e8cfd4c4a3",
   "metadata": {},
   "outputs": [],
   "source": []
  },
  {
   "cell_type": "code",
   "execution_count": 4,
   "id": "0a3bd6d1-8621-4d24-acc5-755870c58399",
   "metadata": {},
   "outputs": [
    {
     "ename": "ValueError",
     "evalue": "Unable to load TOML file '/home/alex/admin1@CCL/dev/sdlc/sdlc.profiles/consultant1@FIN/profile.toml'. Error is:\n\t[Errno 2] No such file or directory: '/home/alex/admin1@CCL/dev/sdlc/sdlc.profiles/consultant1@FIN/profile.toml'",
     "output_type": "error",
     "traceback": [
      "\u001b[0;31m---------------------------------------------------------------------------\u001b[0m",
      "\u001b[0;31mFileNotFoundError\u001b[0m                         Traceback (most recent call last)",
      "File \u001b[0;32m~/consultant1@CCL/dev/conway_fork/conway.svc/src/conway/util/toml_utils.py:17\u001b[0m, in \u001b[0;36mTOML_Utils.load\u001b[0;34m(self, path)\u001b[0m\n\u001b[1;32m     16\u001b[0m \u001b[38;5;28;01mtry\u001b[39;00m:\n\u001b[0;32m---> 17\u001b[0m     \u001b[38;5;28;01mwith\u001b[39;00m \u001b[38;5;28mopen\u001b[39m(path, \u001b[38;5;124m\"\u001b[39m\u001b[38;5;124mrb\u001b[39m\u001b[38;5;124m\"\u001b[39m) \u001b[38;5;28;01mas\u001b[39;00m file:\n\u001b[1;32m     18\u001b[0m         loaded_dict                             \u001b[38;5;241m=\u001b[39m _tomllib\u001b[38;5;241m.\u001b[39mload(file)\n",
      "\u001b[0;31mFileNotFoundError\u001b[0m: [Errno 2] No such file or directory: '/home/alex/admin1@CCL/dev/sdlc/sdlc.profiles/consultant1@FIN/profile.toml'",
      "\nDuring handling of the above exception, another exception occurred:\n",
      "\u001b[0;31mValueError\u001b[0m                                Traceback (most recent call last)",
      "Cell \u001b[0;32mIn[4], line 1\u001b[0m\n\u001b[0;32m----> 1\u001b[0m setup \u001b[38;5;241m=\u001b[39m NBU\u001b[38;5;241m.\u001b[39mRepoSetup(sdlc_root \u001b[38;5;241m=\u001b[39m \u001b[38;5;124m\"\u001b[39m\u001b[38;5;124m/home/alex/admin1@CCL/dev/sdlc\u001b[39m\u001b[38;5;124m\"\u001b[39m, profile_name\u001b[38;5;241m=\u001b[39m\u001b[38;5;124m\"\u001b[39m\u001b[38;5;124mconsultant1@FIN\u001b[39m\u001b[38;5;124m\"\u001b[39m, sdlc_project \u001b[38;5;241m=\u001b[39m \u001b[38;5;124m\"\u001b[39m\u001b[38;5;124msdlc\u001b[39m\u001b[38;5;124m\"\u001b[39m)\n",
      "File \u001b[0;32m~/consultant1@CCL/dev/conway_fork/conway.ops/src/conway_ops/onboarding/repo_setup.py:41\u001b[0m, in \u001b[0;36mRepoSetup.__init__\u001b[0;34m(self, sdlc_root, profile_name, sdlc_project)\u001b[0m\n\u001b[1;32m     39\u001b[0m \u001b[38;5;28mself\u001b[39m\u001b[38;5;241m.\u001b[39mprofile_name                               \u001b[38;5;241m=\u001b[39m profile_name\n\u001b[1;32m     40\u001b[0m \u001b[38;5;28mself\u001b[39m\u001b[38;5;241m.\u001b[39mprofile_path                               \u001b[38;5;241m=\u001b[39m \u001b[38;5;124mf\u001b[39m\u001b[38;5;124m\"\u001b[39m\u001b[38;5;132;01m{\u001b[39;00msdlc_root\u001b[38;5;132;01m}\u001b[39;00m\u001b[38;5;124m/\u001b[39m\u001b[38;5;132;01m{\u001b[39;00msdlc_project\u001b[38;5;132;01m}\u001b[39;00m\u001b[38;5;124m.profiles/\u001b[39m\u001b[38;5;132;01m{\u001b[39;00mprofile_name\u001b[38;5;132;01m}\u001b[39;00m\u001b[38;5;124m/profile.toml\u001b[39m\u001b[38;5;124m\"\u001b[39m \n\u001b[0;32m---> 41\u001b[0m \u001b[38;5;28mself\u001b[39m\u001b[38;5;241m.\u001b[39mprofile                                    \u001b[38;5;241m=\u001b[39m UserProfile(\u001b[38;5;28mself\u001b[39m\u001b[38;5;241m.\u001b[39mprofile_path)\n",
      "File \u001b[0;32m~/consultant1@CCL/dev/conway_fork/conway.ops/src/conway_ops/onboarding/user_profile.py:25\u001b[0m, in \u001b[0;36mUserProfile.__init__\u001b[0;34m(self, profile_path)\u001b[0m\n\u001b[1;32m     21\u001b[0m \u001b[38;5;28;01mdef\u001b[39;00m \u001b[38;5;21m__init__\u001b[39m(\u001b[38;5;28mself\u001b[39m, profile_path):\n\u001b[1;32m     23\u001b[0m     \u001b[38;5;28mself\u001b[39m\u001b[38;5;241m.\u001b[39mprofile_path                               \u001b[38;5;241m=\u001b[39m profile_path\n\u001b[0;32m---> 25\u001b[0m     \u001b[38;5;28mself\u001b[39m\u001b[38;5;241m.\u001b[39mprofile_dict                               \u001b[38;5;241m=\u001b[39m TOML_Utils()\u001b[38;5;241m.\u001b[39mload(\u001b[38;5;28mself\u001b[39m\u001b[38;5;241m.\u001b[39mprofile_path)\n\u001b[1;32m     27\u001b[0m     P                                               \u001b[38;5;241m=\u001b[39m \u001b[38;5;28mself\u001b[39m\u001b[38;5;241m.\u001b[39mprofile_dict\n\u001b[1;32m     29\u001b[0m     \u001b[38;5;28mself\u001b[39m\u001b[38;5;241m.\u001b[39mGH_ORGANIZATION                            \u001b[38;5;241m=\u001b[39m P[\u001b[38;5;124m\"\u001b[39m\u001b[38;5;124mgit\u001b[39m\u001b[38;5;124m\"\u001b[39m][\u001b[38;5;124m\"\u001b[39m\u001b[38;5;124mgithub_organization\u001b[39m\u001b[38;5;124m\"\u001b[39m]\n",
      "File \u001b[0;32m~/consultant1@CCL/dev/conway_fork/conway.svc/src/conway/util/toml_utils.py:21\u001b[0m, in \u001b[0;36mTOML_Utils.load\u001b[0;34m(self, path)\u001b[0m\n\u001b[1;32m     19\u001b[0m         \u001b[38;5;28;01mreturn\u001b[39;00m loaded_dict\n\u001b[1;32m     20\u001b[0m \u001b[38;5;28;01mexcept\u001b[39;00m \u001b[38;5;167;01mException\u001b[39;00m \u001b[38;5;28;01mas\u001b[39;00m ex:\n\u001b[0;32m---> 21\u001b[0m     \u001b[38;5;28;01mraise\u001b[39;00m \u001b[38;5;167;01mValueError\u001b[39;00m(\u001b[38;5;124m\"\u001b[39m\u001b[38;5;124mUnable to load TOML file \u001b[39m\u001b[38;5;124m'\u001b[39m\u001b[38;5;124m\"\u001b[39m \u001b[38;5;241m+\u001b[39m \u001b[38;5;28mstr\u001b[39m(path) \u001b[38;5;241m+\u001b[39m \u001b[38;5;124m\"\u001b[39m\u001b[38;5;124m'\u001b[39m\u001b[38;5;124m. Error is:\u001b[39m\u001b[38;5;130;01m\\n\u001b[39;00m\u001b[38;5;130;01m\\t\u001b[39;00m\u001b[38;5;124m\"\u001b[39m \u001b[38;5;241m+\u001b[39m \u001b[38;5;28mstr\u001b[39m(ex))\n",
      "\u001b[0;31mValueError\u001b[0m: Unable to load TOML file '/home/alex/admin1@CCL/dev/sdlc/sdlc.profiles/consultant1@FIN/profile.toml'. Error is:\n\t[Errno 2] No such file or directory: '/home/alex/admin1@CCL/dev/sdlc/sdlc.profiles/consultant1@FIN/profile.toml'"
     ]
    }
   ],
   "source": [
    "setup = NBU.RepoSetup(sdlc_root = \"/home/alex/admin1@CCL/dev/sdlc\", profile_name=\"consultant1@FIN\", sdlc_project = \"sdlc\")"
   ]
  },
  {
   "cell_type": "code",
   "execution_count": null,
   "id": "974471cd-13cc-406e-aee5-0b18bcfb4152",
   "metadata": {},
   "outputs": [],
   "source": []
  },
  {
   "cell_type": "markdown",
   "id": "fd0f9748-0902-4c08-83d5-6202ca6eb5a3",
   "metadata": {},
   "source": [
    "<h1 style=\"color:purple\">Graph of Awaitables</h1>\n",
    "<p> We pilot whether we can maintain a graph of awaitables, including:</p>\n",
    "<li> Multiple dependencies: awaitables B, C both awaiting on a common awaitable A"
   ]
  },
  {
   "cell_type": "code",
   "execution_count": 2,
   "id": "79e2f10b-967e-42a8-99ff-e7967999221d",
   "metadata": {},
   "outputs": [],
   "source": [
    "import asyncio"
   ]
  },
  {
   "cell_type": "code",
   "execution_count": 3,
   "id": "145a021a-110b-4eac-aecf-9e4b40cb1468",
   "metadata": {},
   "outputs": [],
   "source": [
    "class UsheringTo():\n",
    "\n",
    "    def __init__(self, result_l):\n",
    "        self.result_l = result_l\n",
    "        #self._to_do = []\n",
    "\n",
    "    def __iadd__(self, coro):\n",
    "        if not asyncio.iscoroutine(coro):\n",
    "            raise ValueError(f\"Expected a coroutine, but instead got a {type(coro)}\")\n",
    "        self.to_do.append(coro)\n",
    "        return self\n",
    "\n",
    "    async def __aenter__(self):\n",
    "        self.to_do = []\n",
    "        return self\n",
    "\n",
    "    async def __aexit__(self, exc_type, exc_value, traceback):\n",
    "        to_do_iter                                      = asyncio.as_completed(self.to_do)\n",
    "        for coro in to_do_iter:\n",
    "            coro_result                                 = await coro\n",
    "            self.result_l.append(coro_result)\n",
    "        return"
   ]
  },
  {
   "cell_type": "code",
   "execution_count": 4,
   "id": "7fff6833-773e-4af0-9642-9b3ca4f9639f",
   "metadata": {},
   "outputs": [],
   "source": [
    "class MachineBase():\n",
    "    def __init__(self, verbose, compute_time):\n",
    "        self.verbose = verbose\n",
    "        self.compute_time = compute_time\n",
    "\n",
    "    async def compute(self, path):\n",
    "        return await asyncio.sleep(self.compute_time)\n",
    "    \n",
    "    async def run_node(self, node_name, node_callable, prefix=\"\") -> str:\n",
    "        name = f\"{prefix}{node_name}\"\n",
    "        if self.verbose:\n",
    "            print(f\"{name} ...\", flush=True)\n",
    "        x = await node_callable(f\"{name}->\")\n",
    "        if self.verbose:\n",
    "            print(f\"... {name}\", flush=True)\n",
    "        return f\"{name}\"\n",
    "\n",
    "class Machine1(MachineBase):\n",
    "    \n",
    "    def __init__(self, verbose=False, compute_time=1):\n",
    "        super().__init__(verbose, compute_time)\n",
    "        \n",
    "    async def A(self, prefix=\"\") -> str:\n",
    "        return await self.run_node(\"A\", self.compute, prefix)\n",
    "\n",
    "    async def B(self, prefix=\"\") -> str:\n",
    "        return await self.run_node(\"B\", self.A, prefix)\n",
    "\n",
    "    async def C(self, prefix=\"\") -> str:\n",
    "        return await self.run_node(\"C\", self.B, prefix)\n",
    "\n"
   ]
  },
  {
   "cell_type": "code",
   "execution_count": 5,
   "id": "f95becb8-b343-440b-9056-e5013e75029e",
   "metadata": {},
   "outputs": [],
   "source": [
    "async def supervisor(to_do_l, nb_tries = 1, verbose=False):\n",
    "    result_l                                        =  []\n",
    "\n",
    "    async with UsheringTo(result_l) as usher:\n",
    "        for coro in to_do_l:\n",
    "            usher += coro\n",
    "    return result_l"
   ]
  },
  {
   "cell_type": "code",
   "execution_count": 17,
   "id": "64a81338-bfc2-4cfd-a6fe-966caf9e08f5",
   "metadata": {},
   "outputs": [],
   "source": [
    "COMPUTE_TIME = 0.5 # (in seconds)\n",
    "m1 = Machine1(compute_time=COMPUTE_TIME)"
   ]
  },
  {
   "cell_type": "code",
   "execution_count": 23,
   "id": "79c79033-bce6-4235-8f7a-547594d96541",
   "metadata": {},
   "outputs": [
    {
     "name": "stdout",
     "output_type": "stream",
     "text": [
      "\n",
      "[325.90 sec]\tinteractiveshell:3551\t2 levels test completed in 0.78 sec\n"
     ]
    },
    {
     "data": {
      "text/plain": [
       "(15000, '2.0833333333333335 hr of wait')"
      ]
     },
     "execution_count": 23,
     "metadata": {},
     "output_type": "execute_result"
    }
   ],
   "source": [
    "#result_l = asyncio.run(supervisor()) # Don't do this in Jupyter since Jupyter is already running an event loop\n",
    "NB_TRIES = 5000\n",
    "TO_DO_L = []\n",
    "for idx in range(NB_TRIES):\n",
    "    TO_DO_L += [m1.A(), m1.B(), m1.C()]\n",
    "with NBU.Profiler(\"2 levels test\"):\n",
    "        result_l = await supervisor(TO_DO_L, nb_tries=NB_TRIES)\n",
    "len(result_l), f\"{len(result_l)*COMPUTE_TIME/60/60} hr of wait\""
   ]
  },
  {
   "cell_type": "code",
   "execution_count": null,
   "id": "5339ed58-d91c-4282-9ed0-2a98794cc09f",
   "metadata": {},
   "outputs": [],
   "source": []
  },
  {
   "cell_type": "code",
   "execution_count": null,
   "id": "36e6cb1e-a646-4dce-8c2c-c9289299a7ac",
   "metadata": {},
   "outputs": [],
   "source": []
  }
 ],
 "metadata": {
  "kernelspec": {
   "display_name": "Python 3 (ipykernel)",
   "language": "python",
   "name": "python3"
  },
  "language_info": {
   "codemirror_mode": {
    "name": "ipython",
    "version": 3
   },
   "file_extension": ".py",
   "mimetype": "text/x-python",
   "name": "python",
   "nbconvert_exporter": "python",
   "pygments_lexer": "ipython3",
   "version": "3.12.3"
  }
 },
 "nbformat": 4,
 "nbformat_minor": 5
}
