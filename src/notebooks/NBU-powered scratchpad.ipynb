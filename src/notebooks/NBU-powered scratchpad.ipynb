{
 "cells": [
  {
   "cell_type": "markdown",
   "id": "72a81e99-1414-4275-8569-55073fdc0bd0",
   "metadata": {},
   "source": [
    "<h1 style=\"color:green\">NBU-powered Scratchpad</h1>\n",
    "<p style=\"color:green\">This notebook is used for code smithening purposes</p>\n",
    "<p style=\"color:green\">It includes notebook utilities support, which means it can easily invoke functionality from the Conway-based project it belongs to</p>\n",
    "<p>NB: this notebook requires to be launched in an environment that includes conway and conway.ops</p>"
   ]
  },
  {
   "cell_type": "code",
   "execution_count": 1,
   "id": "2d0062f1-7ee9-4428-a169-6bbf77b30908",
   "metadata": {},
   "outputs": [
    {
     "name": "stdout",
     "output_type": "stream",
     "text": [
      "SCRATCH installation:            \u001b[34m\u001b[7m    scratch_fork    \u001b[0m\n",
      "Jupyter using repo[branch]:  \u001b[32m\u001b[7m    scratch.ops[afin-dev]    \u001b[0m\n",
      "Installation path:           \u001b[34m\u001b[7m    /home/alex/consultant1@CCL/dev/scratch_fork    \u001b[0m\n",
      "Application:                 \u001b[32m\u001b[7m    <class 'scratch_nb_apps.scratch_nb_application.Scratch_NB_Application'>    \u001b[0m\n"
     ]
    }
   ],
   "source": [
    "import os                                                               as _os\n",
    "import sys\n",
    "sys.path.append(_os.path.dirname(_os.path.dirname(_os.getcwd())) + \"/src\") # So we can import scratch_nb_apps\n",
    "from scratch_nb_apps.scratch_nb_utils import Scratch_NB_Utils\n",
    "NBU                       = Scratch_NB_Utils()\n",
    "DFU                       = NBU.DFU\n",
    "T0                        = NBU.time.perf_counter()"
   ]
  },
  {
   "cell_type": "markdown",
   "id": "fd0f9748-0902-4c08-83d5-6202ca6eb5a3",
   "metadata": {},
   "source": [
    "<h1 style=\"color:purple\">Graph of Awaitables</h1>\n",
    "<p> We pilot whether we can maintain a graph of awaitables, including:</p>\n",
    "<li> Multiple dependencies: awaitables B, C both awaiting on a common awaitable A"
   ]
  },
  {
   "cell_type": "code",
   "execution_count": 2,
   "id": "79e2f10b-967e-42a8-99ff-e7967999221d",
   "metadata": {},
   "outputs": [],
   "source": [
    "import asyncio"
   ]
  },
  {
   "cell_type": "code",
   "execution_count": 53,
   "id": "7fff6833-773e-4af0-9642-9b3ca4f9639f",
   "metadata": {},
   "outputs": [],
   "source": [
    "async def A(prefix=\"\") -> str:\n",
    "    name = f\"{prefix}A\"\n",
    "    print(f\"{name} starts ...\", flush=True)\n",
    "    await asyncio.sleep(1)\n",
    "    print(f\"... {name} ends\", flush=True)\n",
    "    return f\"{name}\""
   ]
  },
  {
   "cell_type": "code",
   "execution_count": 54,
   "id": "49939c83-d0b6-405f-82f5-b96d39e485eb",
   "metadata": {},
   "outputs": [],
   "source": [
    "async def B(prefix=\"\") -> str:\n",
    "    name = f\"{prefix}B\"\n",
    "    print(f\"{name} starts ...\", flush=True)\n",
    "    x = await A(f\"{name}->\")\n",
    "    print(f\"... {name} ends\", flush=True)\n",
    "    return f\"{name}\""
   ]
  },
  {
   "cell_type": "code",
   "execution_count": 55,
   "id": "f1ac91f5-0206-48aa-915b-d5b5f874cefe",
   "metadata": {},
   "outputs": [],
   "source": [
    "async def C(prefix=\"\") -> str:\n",
    "    name = f\"{prefix}C\"\n",
    "    print(f\"{name} starts ...\", flush=True)\n",
    "    x = await B(f\"{name}->\")\n",
    "    print(f\"... {name} ends\", flush=True)\n",
    "    return f\"{name}\""
   ]
  },
  {
   "cell_type": "code",
   "execution_count": 152,
   "id": "145a021a-110b-4eac-aecf-9e4b40cb1468",
   "metadata": {},
   "outputs": [],
   "source": [
    "class UsheringTo():\n",
    "\n",
    "    def __init__(self, result_l):\n",
    "        self.result_l = result_l\n",
    "        #self._to_do = []\n",
    "\n",
    "    def __iadd__(self, coro):\n",
    "        if not asyncio.iscoroutine(coro):\n",
    "            raise ValueError(f\"Expected a coroutine, but instead got a {type(coro)}\")\n",
    "        self.to_do.append(coro)\n",
    "        return self\n",
    "\n",
    "    async def __aenter__(self):\n",
    "        self.to_do = []\n",
    "        return self\n",
    "\n",
    "    async def __aexit__(self, exc_type, exc_value, traceback):\n",
    "        to_do_iter                                      = asyncio.as_completed(self.to_do)\n",
    "        for coro in to_do_iter:\n",
    "            coro_result                                 = await coro\n",
    "            self.result_l.append(coro_result)\n",
    "        return"
   ]
  },
  {
   "cell_type": "code",
   "execution_count": 154,
   "id": "00f91e7f-12ee-468c-8b84-09cc7938f3fc",
   "metadata": {},
   "outputs": [
    {
     "name": "stdout",
     "output_type": "stream",
     "text": [
      "B starts ...\n",
      "B->A starts ...\n",
      "C starts ...\n",
      "C->B starts ...\n",
      "C->B->A starts ...\n",
      "A starts ...\n",
      "... B->A ends\n",
      "... B ends\n",
      "... C->B->A ends\n",
      "... C->B ends\n",
      "... C ends\n",
      "... A ends\n"
     ]
    },
    {
     "data": {
      "text/plain": [
       "['B', 'C', 'A']"
      ]
     },
     "execution_count": 154,
     "metadata": {},
     "output_type": "execute_result"
    }
   ],
   "source": [
    "result_l = []\n",
    "work_dict = {\"a\": A, \"b\": B, \"c\": C}\n",
    "\n",
    "async with UsheringTo(result_l) as usher:\n",
    "    for key in work_dict.keys():\n",
    "        usher += work_dict[key]()\n",
    "        \n",
    "result_l\n",
    "    \n",
    "    "
   ]
  },
  {
   "cell_type": "code",
   "execution_count": null,
   "id": "f95becb8-b343-440b-9056-e5013e75029e",
   "metadata": {},
   "outputs": [],
   "source": [
    "async def supervisor():\n",
    "    result_l                                        =  []\n",
    "    print(\"Scheduling A ...\", flush=True)\n",
    "    a = A()\n",
    "    print(\"... A scheduled\", flush=True)\n",
    "    print(\"Scheduling B ...\", flush=True)\n",
    "    b = B()\n",
    "    print(\"... B scheduled\", flush=True)\n",
    "    print(\"Scheduling C ...\", flush=True)\n",
    "    c = C()\n",
    "    print(\"... C scheduled\", flush=True)\n",
    "    to_do = [a, b, c]\n",
    "    to_do_iter                                      = asyncio.as_completed(to_do)\n",
    "    for coro in to_do_iter:\n",
    "        coro_result                                 = await coro\n",
    "        result_l.append(coro_result)\n",
    "    return result_l"
   ]
  },
  {
   "cell_type": "code",
   "execution_count": 110,
   "id": "79c79033-bce6-4235-8f7a-547594d96541",
   "metadata": {},
   "outputs": [
    {
     "name": "stdout",
     "output_type": "stream",
     "text": [
      "Scheduling A ...\n",
      "... A scheduled\n",
      "Scheduling B ...\n",
      "... B scheduled\n",
      "Scheduling C ...\n",
      "... C scheduled\n",
      "C starts ...\n",
      "C->B starts ...\n",
      "C->B->A starts ...\n",
      "A starts ...\n",
      "B starts ...\n",
      "B->A starts ...\n",
      "... C->B->A ends\n",
      "... C->B ends\n",
      "... C ends\n",
      "... A ends\n",
      "... B->A ends\n",
      "... B ends\n"
     ]
    },
    {
     "data": {
      "text/plain": [
       "['C', 'A', 'B']"
      ]
     },
     "execution_count": 110,
     "metadata": {},
     "output_type": "execute_result"
    }
   ],
   "source": [
    "#result_l = asyncio.run(supervisor()) # Don't do this in Jupyter since Jupyter is already running an event loog\n",
    "result_l = await supervisor()\n",
    "result_l"
   ]
  },
  {
   "cell_type": "code",
   "execution_count": null,
   "id": "c4f06eff-005b-4e5e-ab01-a2925b9cb98b",
   "metadata": {},
   "outputs": [],
   "source": []
  },
  {
   "cell_type": "code",
   "execution_count": null,
   "id": "5339ed58-d91c-4282-9ed0-2a98794cc09f",
   "metadata": {},
   "outputs": [],
   "source": []
  },
  {
   "cell_type": "code",
   "execution_count": null,
   "id": "36e6cb1e-a646-4dce-8c2c-c9289299a7ac",
   "metadata": {},
   "outputs": [],
   "source": []
  }
 ],
 "metadata": {
  "kernelspec": {
   "display_name": "Python 3 (ipykernel)",
   "language": "python",
   "name": "python3"
  },
  "language_info": {
   "codemirror_mode": {
    "name": "ipython",
    "version": 3
   },
   "file_extension": ".py",
   "mimetype": "text/x-python",
   "name": "python",
   "nbconvert_exporter": "python",
   "pygments_lexer": "ipython3",
   "version": "3.12.3"
  }
 },
 "nbformat": 4,
 "nbformat_minor": 5
}
